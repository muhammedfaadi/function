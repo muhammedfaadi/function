{
 "cells": [
  {
   "cell_type": "code",
   "execution_count": 1,
   "id": "96b04267-3304-4fca-98e6-5a0f5482809e",
   "metadata": {},
   "outputs": [],
   "source": [
    "#creating a function with arguments\n",
    "def greet(name):\n",
    "    print(f\"hello,{name}\")"
   ]
  },
  {
   "cell_type": "code",
   "execution_count": 4,
   "id": "450be1ef-ebdc-4c8e-a719-bd7258fc4c2c",
   "metadata": {},
   "outputs": [
    {
     "name": "stdout",
     "output_type": "stream",
     "text": [
      "hello,jitha\n"
     ]
    }
   ],
   "source": [
    "greet(\"jitha\")\n",
    "    "
   ]
  },
  {
   "cell_type": "code",
   "execution_count": 5,
   "id": "f878ac33-6d7f-4d1e-a2bb-a1bd4a12bfa5",
   "metadata": {},
   "outputs": [
    {
     "name": "stdout",
     "output_type": "stream",
     "text": [
      "hello,vasu\n"
     ]
    }
   ],
   "source": [
    "greet(\"vasu\")"
   ]
  },
  {
   "cell_type": "code",
   "execution_count": 9,
   "id": "22dfd6ea-aed0-45ff-8510-033261c34fb6",
   "metadata": {},
   "outputs": [],
   "source": [
    "#addition\n",
    "def add(a,b,c):\n",
    "    return a+b+c"
   ]
  },
  {
   "cell_type": "code",
   "execution_count": 10,
   "id": "8c05be02-7601-48b1-89a7-afdebf681e83",
   "metadata": {},
   "outputs": [
    {
     "data": {
      "text/plain": [
       "14"
      ]
     },
     "execution_count": 10,
     "metadata": {},
     "output_type": "execute_result"
    }
   ],
   "source": [
    "add(2,9,3)"
   ]
  },
  {
   "cell_type": "code",
   "execution_count": 11,
   "id": "07516b2f-1c87-44de-897a-d28e0a8b61eb",
   "metadata": {},
   "outputs": [],
   "source": [
    "# subtraction\n",
    "def sub(a,b):\n",
    "    return a-b"
   ]
  },
  {
   "cell_type": "code",
   "execution_count": 13,
   "id": "9e8bc1f6-aa4a-4638-b346-c60bd786cc8b",
   "metadata": {},
   "outputs": [
    {
     "data": {
      "text/plain": [
       "-4"
      ]
     },
     "execution_count": 13,
     "metadata": {},
     "output_type": "execute_result"
    }
   ],
   "source": [
    "sub(3,7)"
   ]
  },
  {
   "cell_type": "code",
   "execution_count": 14,
   "id": "e515d3a9-368e-4ce0-873c-b35a7f9acc66",
   "metadata": {},
   "outputs": [
    {
     "data": {
      "text/plain": [
       "3"
      ]
     },
     "execution_count": 14,
     "metadata": {},
     "output_type": "execute_result"
    }
   ],
   "source": [
    "sub(7,4)"
   ]
  },
  {
   "cell_type": "code",
   "execution_count": 15,
   "id": "27b46ace-3e7a-4ef8-b1bd-0ac1530667e8",
   "metadata": {},
   "outputs": [],
   "source": [
    "#multiplication\n",
    "def mul(a,b,c):\n",
    "    return a*b*c"
   ]
  },
  {
   "cell_type": "code",
   "execution_count": 16,
   "id": "71e18c5d-3f47-4293-b6f9-1b6cda86e43a",
   "metadata": {},
   "outputs": [
    {
     "data": {
      "text/plain": [
       "48"
      ]
     },
     "execution_count": 16,
     "metadata": {},
     "output_type": "execute_result"
    }
   ],
   "source": [
    "mul(2,3,8)"
   ]
  },
  {
   "cell_type": "code",
   "execution_count": 17,
   "id": "23bf7342-b093-454c-a00c-a2e99da8e909",
   "metadata": {},
   "outputs": [],
   "source": [
    "#division\n",
    "def div(a,b):\n",
    "    return a/b"
   ]
  },
  {
   "cell_type": "code",
   "execution_count": 18,
   "id": "69980603-15cb-4ac6-b936-80b40e154fb5",
   "metadata": {},
   "outputs": [
    {
     "data": {
      "text/plain": [
       "0.5"
      ]
     },
     "execution_count": 18,
     "metadata": {},
     "output_type": "execute_result"
    }
   ],
   "source": [
    "div(2,4)"
   ]
  },
  {
   "cell_type": "code",
   "execution_count": 19,
   "id": "09b88653-b531-4c7b-a731-3edf87901a98",
   "metadata": {},
   "outputs": [],
   "source": [
    "#modulus\n",
    "def mod(a,b):\n",
    "    return a%b"
   ]
  },
  {
   "cell_type": "code",
   "execution_count": 21,
   "id": "9928b0f1-da85-45e5-a30a-af4ba5403a98",
   "metadata": {},
   "outputs": [
    {
     "data": {
      "text/plain": [
       "1"
      ]
     },
     "execution_count": 21,
     "metadata": {},
     "output_type": "execute_result"
    }
   ],
   "source": [
    "mod(7,3)"
   ]
  },
  {
   "cell_type": "code",
   "execution_count": 27,
   "id": "df51a137-71d0-45f6-b1ae-1c7b4216c973",
   "metadata": {},
   "outputs": [],
   "source": [
    "def calculator():\n",
    "    def add(a,b):\n",
    "        return a+b\n",
    "    def sub (a,b):\n",
    "        return a-b\n",
    "    def mul(a,b):\n",
    "        return a*b\n",
    "    def div(a,b):\n",
    "        return a/b\n",
    "    def mod(a,b):\n",
    "        return a%b\n",
    "\n",
    "    operation={'1':add,'2':sub,'3':mul,'4':div,'5':mod}\n",
    "    print(\"select the operations (1-5)\")\n",
    "    choice=input(\"enter your choice\")\n",
    "    num1=int(input(\"enter first number\"))\n",
    "    num2=int(input(\"enter second number\"))\n",
    "    operation=operation.get (choice)\n",
    "    if operation :\n",
    "        result=operation (num1,num2)\n",
    "        print(f\"the result is{result}\")\n",
    "    else:\n",
    "        print(\"invalid input\")\n",
    "    "
   ]
  },
  {
   "cell_type": "code",
   "execution_count": 28,
   "id": "57ff68d5-97a9-4604-8444-c2188669bb2c",
   "metadata": {},
   "outputs": [
    {
     "name": "stdout",
     "output_type": "stream",
     "text": [
      "select the operations (1-5)\n"
     ]
    },
    {
     "name": "stdin",
     "output_type": "stream",
     "text": [
      "enter your choice 3\n",
      "enter first number 67\n",
      "enter second number 89\n"
     ]
    },
    {
     "name": "stdout",
     "output_type": "stream",
     "text": [
      "the result is5963\n"
     ]
    }
   ],
   "source": [
    "calculator()"
   ]
  },
  {
   "cell_type": "code",
   "execution_count": 30,
   "id": "86c417db-96d4-443a-9be3-8e2514c2e3cc",
   "metadata": {},
   "outputs": [
    {
     "name": "stdout",
     "output_type": "stream",
     "text": [
      "select the operations (1-5)\n"
     ]
    },
    {
     "name": "stdin",
     "output_type": "stream",
     "text": [
      "enter your choice 4\n",
      "enter first number 23\n",
      "enter second number 45\n"
     ]
    },
    {
     "name": "stdout",
     "output_type": "stream",
     "text": [
      "the result is0.5111111111111111\n"
     ]
    }
   ],
   "source": [
    "calculator()\n"
   ]
  },
  {
   "cell_type": "code",
   "execution_count": 31,
   "id": "e4621787-3f82-406c-a057-48470edceafe",
   "metadata": {},
   "outputs": [],
   "source": [
    "#global\n",
    "x=10\n",
    "def scope():\n",
    "    y=5 #local\n",
    "    print(y)\n",
    "    "
   ]
  },
  {
   "cell_type": "code",
   "execution_count": 34,
   "id": "ae55f411-3988-4d89-b5b5-c2d70cef3baf",
   "metadata": {},
   "outputs": [
    {
     "data": {
      "text/plain": [
       "10"
      ]
     },
     "execution_count": 34,
     "metadata": {},
     "output_type": "execute_result"
    }
   ],
   "source": [
    "x"
   ]
  },
  {
   "cell_type": "code",
   "execution_count": 35,
   "id": "ed56fad9-a340-4da3-97c8-6b87a46b9642",
   "metadata": {},
   "outputs": [
    {
     "ename": "NameError",
     "evalue": "name 'y' is not defined",
     "output_type": "error",
     "traceback": [
      "\u001b[1;31m---------------------------------------------------------------------------\u001b[0m",
      "\u001b[1;31mNameError\u001b[0m                                 Traceback (most recent call last)",
      "Cell \u001b[1;32mIn[35], line 1\u001b[0m\n\u001b[1;32m----> 1\u001b[0m y\n",
      "\u001b[1;31mNameError\u001b[0m: name 'y' is not defined"
     ]
    }
   ],
   "source": [
    "y"
   ]
  },
  {
   "cell_type": "code",
   "execution_count": 33,
   "id": "a0962855-82cd-4eb1-afb8-1f2f73c44d1e",
   "metadata": {},
   "outputs": [
    {
     "name": "stdout",
     "output_type": "stream",
     "text": [
      "5\n"
     ]
    }
   ],
   "source": [
    "scope()"
   ]
  },
  {
   "cell_type": "markdown",
   "id": "cc34d85e-996c-441b-ae55-a887942f8fb3",
   "metadata": {},
   "source": [
    "question"
   ]
  },
  {
   "cell_type": "code",
   "execution_count": 36,
   "id": "0a830f61-20cb-4e5e-b4b2-b36cc3cf2f28",
   "metadata": {},
   "outputs": [],
   "source": [
    "#1 write a funcution is_even(n)that retruns even if the number is even or return odd if the number is odd\n",
    "def is_even(n):\n",
    "    if n%2==0:\n",
    "        return \"even\"\n",
    "    else:\n",
    "        return\"odd\"\n",
    "    "
   ]
  },
  {
   "cell_type": "code",
   "execution_count": 38,
   "id": "f995b385-81d3-4068-b927-631d7fecd322",
   "metadata": {},
   "outputs": [
    {
     "data": {
      "text/plain": [
       "'odd'"
      ]
     },
     "execution_count": 38,
     "metadata": {},
     "output_type": "execute_result"
    }
   ],
   "source": [
    "is_even(89)\n"
   ]
  },
  {
   "cell_type": "code",
   "execution_count": 41,
   "id": "7c45bb7e-9194-4e25-905f-72c75e8375d9",
   "metadata": {},
   "outputs": [],
   "source": [
    "#2 write a function is_prime(n) that returns true if the number s prime else false\n",
    "def is_prime(n):\n",
    "    if n<=1:\n",
    "        return  False\n",
    "    for i in range(2,int(n**0.5)+1):\n",
    "        if n%i==0:\n",
    "            return False\n",
    "    return True"
   ]
  },
  {
   "cell_type": "code",
   "execution_count": 42,
   "id": "c0989784-3e6d-4623-9dc6-ce64ac86d5aa",
   "metadata": {},
   "outputs": [
    {
     "data": {
      "text/plain": [
       "True"
      ]
     },
     "execution_count": 42,
     "metadata": {},
     "output_type": "execute_result"
    }
   ],
   "source": [
    "is_prime(7)\n"
   ]
  },
  {
   "cell_type": "code",
   "execution_count": 43,
   "id": "27a8b894-e626-437e-a18a-c9a40cd4e32e",
   "metadata": {},
   "outputs": [
    {
     "data": {
      "text/plain": [
       "False"
      ]
     },
     "execution_count": 43,
     "metadata": {},
     "output_type": "execute_result"
    }
   ],
   "source": [
    "is_prime(9)\n"
   ]
  },
  {
   "cell_type": "code",
   "execution_count": 44,
   "id": "3d9721a5-170b-4495-989c-ea8071ea97e0",
   "metadata": {},
   "outputs": [
    {
     "data": {
      "text/plain": [
       "2.6457513110645907"
      ]
     },
     "execution_count": 44,
     "metadata": {},
     "output_type": "execute_result"
    }
   ],
   "source": [
    "7**0.5"
   ]
  },
  {
   "cell_type": "code",
   "execution_count": 46,
   "id": "0f32c48d-ad5a-40a7-ac53-1f20f67faafb",
   "metadata": {},
   "outputs": [
    {
     "data": {
      "text/plain": [
       "3.64"
      ]
     },
     "execution_count": 46,
     "metadata": {},
     "output_type": "execute_result"
    }
   ],
   "source": [
    "2.64+1"
   ]
  },
  {
   "cell_type": "code",
   "execution_count": 47,
   "id": "80f81aa7-121e-4a2f-beea-04151fe4c352",
   "metadata": {},
   "outputs": [
    {
     "data": {
      "text/plain": [
       "3.0"
      ]
     },
     "execution_count": 47,
     "metadata": {},
     "output_type": "execute_result"
    }
   ],
   "source": [
    "9**0.5"
   ]
  },
  {
   "cell_type": "code",
   "execution_count": 51,
   "id": "287571b3-cec9-49c0-8479-50b0781817db",
   "metadata": {},
   "outputs": [],
   "source": [
    "#3 write a python program to display the first 10 prime numbers\n",
    "def prime1(n):\n",
    "    if n<=1:\n",
    "        return False\n",
    "    for i in range (2,int(n**0.5)+1):\n",
    "        if n%i==11:\n",
    "            return False\n",
    "        return True\n",
    "    count=0\n",
    "    if i ==0:\n",
    "        \"continue\""
   ]
  },
  {
   "cell_type": "code",
   "execution_count": 52,
   "id": "a7bfb0d9-f265-427a-b525-8a63374d8a2c",
   "metadata": {},
   "outputs": [
    {
     "name": "stdout",
     "output_type": "stream",
     "text": [
      "2\n",
      "3\n",
      "5\n",
      "7\n",
      "11\n",
      "13\n",
      "17\n",
      "19\n",
      "23\n",
      "29\n"
     ]
    }
   ],
   "source": [
    "def print_first_10_primes():\n",
    "    primes_found = 0\n",
    "    num = 2\n",
    "\n",
    "    for _ in range(100):  # Just an upper limit, will break after 10 primes\n",
    "        is_prime = True\n",
    "        for i in range(2, int(num ** 0.5) + 1):\n",
    "            if num % i == 0:\n",
    "                is_prime = False\n",
    "                break\n",
    "        if is_prime:\n",
    "            print(num)\n",
    "            primes_found += 1\n",
    "            if primes_found == 10:\n",
    "                break\n",
    "        num += 1\n",
    "\n",
    "# Call the function\n",
    "print_first_10_primes()\n",
    "\n"
   ]
  },
  {
   "cell_type": "code",
   "execution_count": 54,
   "id": "8eeea122-5499-49ec-a14b-47eee36bb773",
   "metadata": {},
   "outputs": [],
   "source": [
    "add=lambda a,b:a+b"
   ]
  },
  {
   "cell_type": "code",
   "execution_count": 55,
   "id": "a2fe98b3-126b-448f-b8f7-c0d50863938d",
   "metadata": {},
   "outputs": [
    {
     "data": {
      "text/plain": [
       "7"
      ]
     },
     "execution_count": 55,
     "metadata": {},
     "output_type": "execute_result"
    }
   ],
   "source": [
    "add(3,4)"
   ]
  },
  {
   "cell_type": "code",
   "execution_count": 56,
   "id": "722781bc-ad20-4641-8382-76cbf5f3f5b6",
   "metadata": {},
   "outputs": [],
   "source": [
    "square=lambda x:x*x"
   ]
  },
  {
   "cell_type": "code",
   "execution_count": 57,
   "id": "674cf022-fbb0-44b0-a291-b4e8cf815e78",
   "metadata": {},
   "outputs": [
    {
     "data": {
      "text/plain": [
       "25"
      ]
     },
     "execution_count": 57,
     "metadata": {},
     "output_type": "execute_result"
    }
   ],
   "source": [
    "square(5)"
   ]
  },
  {
   "cell_type": "code",
   "execution_count": 58,
   "id": "0631eba9-f413-4b90-a730-e3bfa72b9193",
   "metadata": {},
   "outputs": [],
   "source": [
    "n=[1,2,3,4,5,6,7,8,9,10]"
   ]
  },
  {
   "cell_type": "code",
   "execution_count": 59,
   "id": "e0796368-c6aa-4d92-9890-4e392b55599a",
   "metadata": {},
   "outputs": [
    {
     "data": {
      "text/plain": [
       "[1, 2, 3, 4, 5, 6, 7, 8, 9, 10]"
      ]
     },
     "execution_count": 59,
     "metadata": {},
     "output_type": "execute_result"
    }
   ],
   "source": [
    "n"
   ]
  },
  {
   "cell_type": "code",
   "execution_count": 61,
   "id": "0baac014-54e2-48c7-8c3f-f48fc25845c6",
   "metadata": {},
   "outputs": [],
   "source": [
    "square=[x**2 for x in range(1,6)]"
   ]
  },
  {
   "cell_type": "code",
   "execution_count": 62,
   "id": "4a971573-770c-4e65-966c-fcce6432070e",
   "metadata": {},
   "outputs": [
    {
     "data": {
      "text/plain": [
       "[1, 4, 9, 16, 25]"
      ]
     },
     "execution_count": 62,
     "metadata": {},
     "output_type": "execute_result"
    }
   ],
   "source": [
    "square"
   ]
  },
  {
   "cell_type": "code",
   "execution_count": null,
   "id": "d33d8804-1f97-4d87-bd12-9b6a2915b144",
   "metadata": {},
   "outputs": [],
   "source": []
  }
 ],
 "metadata": {
  "kernelspec": {
   "display_name": "Python [conda env:base] *",
   "language": "python",
   "name": "conda-base-py"
  },
  "language_info": {
   "codemirror_mode": {
    "name": "ipython",
    "version": 3
   },
   "file_extension": ".py",
   "mimetype": "text/x-python",
   "name": "python",
   "nbconvert_exporter": "python",
   "pygments_lexer": "ipython3",
   "version": "3.13.5"
  }
 },
 "nbformat": 4,
 "nbformat_minor": 5
}

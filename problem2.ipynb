{
 "cells": [
  {
   "cell_type": "code",
   "execution_count": null,
   "id": "eee95751-39af-4c42-a8fb-c4209867cb3a",
   "metadata": {},
   "outputs": [],
   "source": [
    "#Write a Python program to find the factorial of a number using a loop.\n",
    "num=int(input(\"Enter a Number\"))\n",
    "f=1\n",
    "if num>1:\n",
    "    for i in range(1,num+1):\n",
    "        f=f*i\n",
    "    print(f'The factorial of {num} is',f)\n",
    "elif num==0:\n",
    "    print(f'The factorial of {num} is',f)\n",
    "else:\n",
    "   print('Please enter a positive number')"
   ]
  },
  {
   "cell_type": "code",
   "execution_count": null,
   "id": "e13d4f4a-5079-478a-ae23-48dc9aa58eb3",
   "metadata": {},
   "outputs": [],
   "source": [
    "#Write a Python program to find the factorial of a number using function\n",
    "def factorial(num):\n",
    "    f=1\n",
    "    if num==0:\n",
    "        return f'The factorial of {num} is',f\n",
    "    elif num<1:\n",
    "       return 'Undefined for NEGATIVE number'\n",
    "    else:\n",
    "        for i in range(1,num+1):\n",
    "            f=f*i\n",
    "    return f'The factorial of {num} is',f\n",
    "num=int(input(\"Enter a Number\"))\n",
    "factorial(num)"
   ]
  },
  {
   "cell_type": "code",
   "execution_count": 4,
   "id": "47e37013-258d-4020-9f74-d4f5faeaf683",
   "metadata": {},
   "outputs": [
    {
     "name": "stdin",
     "output_type": "stream",
     "text": [
      "Enter the limit: 10\n"
     ]
    },
    {
     "name": "stdout",
     "output_type": "stream",
     "text": [
      "Fibonacci series upto 10 are [0, 1, 1, 2, 3, 5, 8, 13, 21, 34]\n"
     ]
    }
   ],
   "source": [
    "#Write a Python program to find the fibonacci series\n",
    "def fibonacci(n):\n",
    "    a=0\n",
    "    b=1\n",
    "    l=[a,b]\n",
    "    for i in range(n-2):\n",
    "        s=a+b\n",
    "        l.append(s)\n",
    "        a=b\n",
    "        b=s\n",
    "    return l\n",
    "limit=int(input('Enter the limit:'))\n",
    "print(f'Fibonacci series upto {limit} are',fibonacci(limit))"
   ]
  },
  {
   "cell_type": "code",
   "execution_count": 5,
   "id": "933bb459-c986-48b8-900d-c0d11df497cc",
   "metadata": {},
   "outputs": [
    {
     "name": "stdin",
     "output_type": "stream",
     "text": [
      "Enter a string: helllo\n"
     ]
    },
    {
     "name": "stdout",
     "output_type": "stream",
     "text": [
      "The reversed string is ollleh\n"
     ]
    }
   ],
   "source": [
    "#Write a Python program that takes a string and prints its reverse.\n",
    "def sr(x):\n",
    "    return x[::-1]\n",
    "str=input('Enter a string:')\n",
    "print('The reversed string is',sr(str))\n"
   ]
  },
  {
   "cell_type": "code",
   "execution_count": 6,
   "id": "e28490ba-5cca-45e8-837e-53f2651a014b",
   "metadata": {},
   "outputs": [
    {
     "name": "stdin",
     "output_type": "stream",
     "text": [
      "Enter a string: Hello\n"
     ]
    },
    {
     "name": "stdout",
     "output_type": "stream",
     "text": [
      "2\n"
     ]
    }
   ],
   "source": [
    "#Write a program to count the number of vowels in a given string.\n",
    "v=['a','e','i','o','u','A','E','I','O','U']\n",
    "vc=0\n",
    "s=input('Enter a string:')\n",
    "for i in s:\n",
    "    if i in v:\n",
    "        vc+=1\n",
    "print(vc)\n",
    "        "
   ]
  },
  {
   "cell_type": "code",
   "execution_count": 10,
   "id": "70a8a497-3de2-48a4-93d5-43e18a61813e",
   "metadata": {},
   "outputs": [
    {
     "name": "stdin",
     "output_type": "stream",
     "text": [
      "Enter a word: MalayaLam\n"
     ]
    },
    {
     "name": "stdout",
     "output_type": "stream",
     "text": [
      "The given word is PALINDROME\n"
     ]
    }
   ],
   "source": [
    "#Write a function that checks if a given string is a palindrome (reads the same backward).\n",
    "def palindrome(x):\n",
    "    if x==x[::-1]:\n",
    "        print('The given word is PALINDROME')\n",
    "    else:\n",
    "        print('The given word is not PALINDROME')\n",
    "word=input('Enter a word:')\n",
    "w=word.lower()\n",
    "palindrome(w)"
   ]
  },
  {
   "cell_type": "code",
   "execution_count": 11,
   "id": "e5b13544-1a38-49e7-bcaf-479afd5a78c1",
   "metadata": {},
   "outputs": [
    {
     "data": {
      "text/plain": [
       "[15, 30, 45, 60, 75, 90]"
      ]
     },
     "execution_count": 11,
     "metadata": {},
     "output_type": "execute_result"
    }
   ],
   "source": [
    "#Create a list of all numbers from 1 to 100 that are divisible by both 3 and 5 using list comprehension.\n",
    "[n for n in range(1,101) if n%3==0 and n%5==0 ]"
   ]
  },
  {
   "cell_type": "code",
   "execution_count": 12,
   "id": "e1ea09a6-2596-437c-b0a7-23157dedff29",
   "metadata": {},
   "outputs": [
    {
     "data": {
      "text/plain": [
       "[4, 16, 36, 64, 100, 144, 196, 256, 324, 400]"
      ]
     },
     "execution_count": 12,
     "metadata": {},
     "output_type": "execute_result"
    }
   ],
   "source": [
    "#Write a list comprehension that creates a list of squares of even numbers from 1 to 20.\n",
    "[n**2 for n in range(1,21) if n%2==0]"
   ]
  },
  {
   "cell_type": "code",
   "execution_count": 15,
   "id": "cf4d77b1-9775-4cf2-aeaf-c1e2c3b59e2c",
   "metadata": {},
   "outputs": [
    {
     "name": "stdin",
     "output_type": "stream",
     "text": [
      "Enter the digit 123\n"
     ]
    },
    {
     "name": "stdout",
     "output_type": "stream",
     "text": [
      "6\n"
     ]
    }
   ],
   "source": [
    "#Take a number and print the sum of its digits.\n",
    "d=input('Enter the digit')\n",
    "s=0\n",
    "for i in d:\n",
    "    s+=int(i)\n",
    "print(s)"
   ]
  },
  {
   "cell_type": "code",
   "execution_count": 16,
   "id": "af9e4be1-2504-4003-8d50-34dc85b1a6d4",
   "metadata": {},
   "outputs": [
    {
     "name": "stdin",
     "output_type": "stream",
     "text": [
      "Enter the digit 123\n"
     ]
    },
    {
     "name": "stdout",
     "output_type": "stream",
     "text": [
      "Reversed integer: 321\n"
     ]
    }
   ],
   "source": [
    "#Take an integer input and print its reverse.\n",
    "d=input('Enter the digit')\n",
    "reversed=d[::-1]\n",
    "print('Reversed integer:',int(reversed))"
   ]
  },
  {
   "cell_type": "code",
   "execution_count": null,
   "id": "60442892-78c1-4832-8b8e-8bc0a88a6705",
   "metadata": {},
   "outputs": [],
   "source": []
  }
 ],
 "metadata": {
  "kernelspec": {
   "display_name": "Python 3 (ipykernel)",
   "language": "python",
   "name": "python3"
  },
  "language_info": {
   "codemirror_mode": {
    "name": "ipython",
    "version": 3
   },
   "file_extension": ".py",
   "mimetype": "text/x-python",
   "name": "python",
   "nbconvert_exporter": "python",
   "pygments_lexer": "ipython3",
   "version": "3.13.5"
  }
 },
 "nbformat": 4,
 "nbformat_minor": 5
}

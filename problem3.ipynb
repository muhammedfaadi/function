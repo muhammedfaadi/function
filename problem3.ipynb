{
 "cells": [
  {
   "cell_type": "code",
   "execution_count": 5,
   "id": "38437cbb-7c57-4a02-8f23-7df3c2088242",
   "metadata": {},
   "outputs": [
    {
     "name": "stdin",
     "output_type": "stream",
     "text": [
      "Enter the Number 3\n"
     ]
    },
    {
     "data": {
      "text/plain": [
       "False"
      ]
     },
     "execution_count": 5,
     "metadata": {},
     "output_type": "execute_result"
    }
   ],
   "source": [
    "#Write a function is_even(n) that returns True if the number is even, else False\n",
    "def is_even(n):\n",
    "    if n%2==0:\n",
    "        return True\n",
    "    else:\n",
    "         return False\n",
    "n=int(input('Enter the Number'))\n",
    "is_even(n)"
   ]
  },
  {
   "cell_type": "code",
   "execution_count": 4,
   "id": "f9f48d21-033d-4b91-941a-c8b9815fc924",
   "metadata": {},
   "outputs": [
    {
     "name": "stdout",
     "output_type": "stream",
     "text": [
      "The number of even number in the list are 5\n"
     ]
    }
   ],
   "source": [
    "#Create a list of 10 numbers and use a for loop to count how many are even.\n",
    "List=[1,2,3,4,5,6,7,8,9,10]\n",
    "count=len([n for n in List if n%2==0])\n",
    "print('The number of even number in the list are',count)\n"
   ]
  },
  {
   "cell_type": "code",
   "execution_count": 11,
   "id": "af225e78-e001-4333-bd9e-4bad54b6b4eb",
   "metadata": {},
   "outputs": [
    {
     "name": "stdin",
     "output_type": "stream",
     "text": [
      "Enter the 1st Number 5\n",
      "Enter the 2nd Number 4\n",
      "Enter the 3rd Number 3\n"
     ]
    },
    {
     "name": "stdout",
     "output_type": "stream",
     "text": [
      "5 is greater\n"
     ]
    }
   ],
   "source": [
    "#Write a function max_of_three(a, b, c) that returns the largest of the three numbers using if-else.\n",
    "def max_of_three(a,b,c):\n",
    "    if a>b or a>c:\n",
    "        print(a,'is greater')\n",
    "    elif a<b or c<b:\n",
    "        print(b,'is greater')\n",
    "    elif c>a or c>b:\n",
    "        print(c,'is greater')\n",
    "    else:\n",
    "        return 'Enter an correct INT value'\n",
    "a=int(input('Enter the 1st Number'))\n",
    "b=int(input('Enter the 2nd Number'))\n",
    "c=int(input('Enter the 3rd Number'))\n",
    "max_of_three(a,b,c)"
   ]
  },
  {
   "cell_type": "code",
   "execution_count": 18,
   "id": "297604e8-75f7-402d-82a9-47093aaa0e78",
   "metadata": {},
   "outputs": [
    {
     "data": {
      "text/plain": [
       "15"
      ]
     },
     "execution_count": 18,
     "metadata": {},
     "output_type": "execute_result"
    }
   ],
   "source": [
    "#Write a function to calculate the sum of all elements in a list.\n",
    "def t_sum(list):\n",
    "    t=0\n",
    "    for i in list:\n",
    "        t+=i\n",
    "    return t\n",
    "lis=[1,2,3,4,5]\n",
    "t_sum(lis)"
   ]
  },
  {
   "cell_type": "code",
   "execution_count": 26,
   "id": "3da23315-aaf7-4cb6-92d9-76512e8b8592",
   "metadata": {},
   "outputs": [
    {
     "data": {
      "text/plain": [
       "[1,\n",
       " 2,\n",
       " 3,\n",
       " 4,\n",
       " 6,\n",
       " 7,\n",
       " 8,\n",
       " 9,\n",
       " 11,\n",
       " 12,\n",
       " 13,\n",
       " 14,\n",
       " 16,\n",
       " 17,\n",
       " 18,\n",
       " 19,\n",
       " 21,\n",
       " 22,\n",
       " 23,\n",
       " 24,\n",
       " 26,\n",
       " 27,\n",
       " 28,\n",
       " 29,\n",
       " 31,\n",
       " 32,\n",
       " 33,\n",
       " 34,\n",
       " 36,\n",
       " 37,\n",
       " 38,\n",
       " 39,\n",
       " 41,\n",
       " 42,\n",
       " 43,\n",
       " 44,\n",
       " 46,\n",
       " 47,\n",
       " 48,\n",
       " 49]"
      ]
     },
     "execution_count": 26,
     "metadata": {},
     "output_type": "execute_result"
    }
   ],
   "source": [
    "#Use a loop to print numbers from 1 to 50, but skip the numbers divisible by 5.\n",
    "[x for x in range(1,51) if x%5!=0]\n"
   ]
  },
  {
   "cell_type": "code",
   "execution_count": 27,
   "id": "43912b60-53e4-4a1c-8509-e59d9f721113",
   "metadata": {},
   "outputs": [
    {
     "name": "stdin",
     "output_type": "stream",
     "text": [
      "Enter a word: mal\n"
     ]
    },
    {
     "data": {
      "text/plain": [
       "False"
      ]
     },
     "execution_count": 27,
     "metadata": {},
     "output_type": "execute_result"
    }
   ],
   "source": [
    "#Write a function is_palindrome(s) that returns True if the string s is a palindrome.\n",
    "def palindrome(x):\n",
    "    if x==x[::-1]:\n",
    "        return True\n",
    "    else:\n",
    "        return False\n",
    "word=input('Enter a word:')\n",
    "w=word.lower()\n",
    "palindrome(w)"
   ]
  },
  {
   "cell_type": "code",
   "execution_count": 28,
   "id": "f729d3ae-3abc-4284-b6d5-b496cc35a5f1",
   "metadata": {},
   "outputs": [
    {
     "name": "stdout",
     "output_type": "stream",
     "text": [
      "{1: 1, 2: 4, 3: 9, 4: 16, 5: 25}\n"
     ]
    }
   ],
   "source": [
    "#Create a dictionary where the keys are numbers from 1 to 5 and the values are their squares\n",
    "sqr_dict={}\n",
    "for i in range(1,6):\n",
    "    sqr_dict[i]=i**2\n",
    "print(sqr_dict)"
   ]
  },
  {
   "cell_type": "code",
   "execution_count": 1,
   "id": "7cd5e52b-f0ee-4ade-b474-245023b4d569",
   "metadata": {},
   "outputs": [
    {
     "name": "stdin",
     "output_type": "stream",
     "text": [
      "Enter a list of values:  [1,1,2]\n"
     ]
    },
    {
     "name": "stdout",
     "output_type": "stream",
     "text": [
      "[1]\n"
     ]
    }
   ],
   "source": [
    "#Given a list of numbers, print all the duplicate elements using a loop.\n",
    "def dupl(lis):\n",
    "    for i in lis:\n",
    "        if lis.count(i) > 1 and i not in dup:\n",
    "            dup.append(i)\n",
    "    print(dup)\n",
    "dup = []\n",
    "x = eval(input('Enter a list of values: '))\n",
    "dupl(x)"
   ]
  },
  {
   "cell_type": "code",
   "execution_count": 36,
   "id": "68d7f7ce-c5a1-41a0-b053-ee48b2891a16",
   "metadata": {},
   "outputs": [
    {
     "name": "stdout",
     "output_type": "stream",
     "text": [
      "*\n",
      "**\n",
      "***\n",
      "****\n",
      "*****\n"
     ]
    }
   ],
   "source": [
    "'''Write a loop to print the following pattern:\n",
    "\n",
    "*\n",
    "**\n",
    "***\n",
    "****\n",
    "*****'''\n",
    "for i in range(1,6):\n",
    "    for j in range(1,i+1):\n",
    "        print('*',end='')\n",
    "    print('')    \n"
   ]
  },
  {
   "cell_type": "code",
   "execution_count": 50,
   "id": "9d6095e0-6557-4136-9d3f-e894b8cdc046",
   "metadata": {},
   "outputs": [
    {
     "name": "stdin",
     "output_type": "stream",
     "text": [
      "Enter the 1st Number 1\n",
      "Enter the 2nd Number 2\n",
      "Enter the Operator *\n"
     ]
    },
    {
     "data": {
      "text/plain": [
       "2"
      ]
     },
     "execution_count": 50,
     "metadata": {},
     "output_type": "execute_result"
    }
   ],
   "source": [
    "## Write a function calculator(a, b, op) that takes two numbers and an operator (+, -, *, /) and returns the result using if-elif.\n",
    "def calculator(a,b,op):\n",
    "    if op=='+':\n",
    "        return a+b\n",
    "    elif op=='-':\n",
    "        return a-b\n",
    "    elif op=='*':\n",
    "        return a*b\n",
    "    elif op=='/':\n",
    "        return a/b\n",
    "    else:\n",
    "        return \"Enter an correct OPERATOR\"\n",
    "a=int(input('Enter the 1st Number'))\n",
    "b=int(input('Enter the 2nd Number'))\n",
    "op=input('Enter the Operator')\n",
    "calculator(a,b,op)\n",
    "    "
   ]
  },
  {
   "cell_type": "code",
   "execution_count": null,
   "id": "08e35d9b-c4c6-4507-84b7-5ac5d5cdffd1",
   "metadata": {},
   "outputs": [],
   "source": []
  }
 ],
 "metadata": {
  "kernelspec": {
   "display_name": "Python [conda env:base] *",
   "language": "python",
   "name": "conda-base-py"
  },
  "language_info": {
   "codemirror_mode": {
    "name": "ipython",
    "version": 3
   },
   "file_extension": ".py",
   "mimetype": "text/x-python",
   "name": "python",
   "nbconvert_exporter": "python",
   "pygments_lexer": "ipython3",
   "version": "3.13.5"
  }
 },
 "nbformat": 4,
 "nbformat_minor": 5
}
